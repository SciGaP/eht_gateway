{
 "cells": [
  {
   "cell_type": "markdown",
   "id": "85c99c86-ce9d-4265-bc2b-1b293fdf6777",
   "metadata": {},
   "source": [
    "# Remote Execute EHT job submission\n",
    "1. login in osg node through ssh jump\n",
    "2. execute the job submission script\n",
    "3. monitoring and get the result back"
   ]
  },
  {
   "cell_type": "markdown",
   "id": "c5029a0e-4202-4aa6-bd90-fc1e5a7b10e4",
   "metadata": {},
   "source": [
    "## 1. ssh jump to osg node\n",
    "osg node can be only accessed through scigap03"
   ]
  },
  {
   "cell_type": "code",
   "execution_count": 1,
   "id": "b9f56bf1-b145-44bf-8f18-006f84760c0f",
   "metadata": {},
   "outputs": [],
   "source": [
    "from fabric import Connection"
   ]
  },
  {
   "cell_type": "code",
   "execution_count": 4,
   "id": "c66cae03-d651-47d5-a96c-85b81cf744e2",
   "metadata": {},
   "outputs": [],
   "source": [
    "user = \"airavata\"\n",
    "sshA = \"scigap03.sciencegateways.iu.edu\"\n",
    "sshB = \"ospool-eht2000.chtc.wisc.edu\""
   ]
  },
  {
   "cell_type": "code",
   "execution_count": 2,
   "id": "7d29819a-2353-46ce-ba1f-7eed52b188d3",
   "metadata": {},
   "outputs": [
    {
     "name": "stdin",
     "output_type": "stream",
     "text": [
      "password for the ssh key:  ········\n"
     ]
    }
   ],
   "source": [
    "# password can be securely stored somewhere \n",
    "import getpass\n",
    "pw = getpass.getpass(prompt='password for the ssh key: ')"
   ]
  },
  {
   "cell_type": "code",
   "execution_count": 5,
   "id": "577b5158-727a-49fa-956c-d089699fb086",
   "metadata": {},
   "outputs": [
    {
     "name": "stdout",
     "output_type": "stream",
     "text": [
      "scigap03.sciencegateways.iu.edu\n"
     ]
    },
    {
     "data": {
      "text/plain": [
       "<Result cmd='hostname' exited=0>"
      ]
     },
     "execution_count": 5,
     "metadata": {},
     "output_type": "execute_result"
    }
   ],
   "source": [
    "# connect to the first VM\n",
    "c1 = Connection(sshA, user='airavata',connect_kwargs={'password': pw})\n",
    "c1.run(\"hostname\")"
   ]
  },
  {
   "cell_type": "code",
   "execution_count": 6,
   "id": "00239612-417a-4bcf-a7cd-b7ebe1336443",
   "metadata": {},
   "outputs": [
    {
     "name": "stdout",
     "output_type": "stream",
     "text": [
      "ospool-eht2000\n"
     ]
    },
    {
     "data": {
      "text/plain": [
       "<Result cmd='hostname' exited=0>"
      ]
     },
     "execution_count": 6,
     "metadata": {},
     "output_type": "execute_result"
    }
   ],
   "source": [
    "# connect to the osg node\n",
    "c2 = Connection(sshB, user='ehtbot', gateway=c1)\n",
    "c2.run('hostname')"
   ]
  },
  {
   "cell_type": "code",
   "execution_count": 7,
   "id": "c53900ee-425a-464a-952a-6efa20ee0204",
   "metadata": {},
   "outputs": [
    {
     "name": "stdout",
     "output_type": "stream",
     "text": [
      "\n",
      "\n",
      "-- Schedd: ospool-eht.chtc.wisc.edu : <128.105.68.10:9618?... @ 02/15/24 09:57:50\n",
      "OWNER BATCH_NAME      SUBMITTED   DONE   RUN    IDLE   HOLD  TOTAL JOB_IDS\n",
      "\n",
      "Total for query: 0 jobs; 0 completed, 0 removed, 0 idle, 0 running, 0 held, 0 suspended \n",
      "Total for ehtbot: 0 jobs; 0 completed, 0 removed, 0 idle, 0 running, 0 held, 0 suspended \n",
      "Total for all users: 0 jobs; 0 completed, 0 removed, 0 idle, 0 running, 0 held, 0 suspended\n",
      "\n"
     ]
    },
    {
     "data": {
      "text/plain": [
       "<Result cmd='condor_q' exited=0>"
      ]
     },
     "execution_count": 7,
     "metadata": {},
     "output_type": "execute_result"
    }
   ],
   "source": [
    "# check if any job running\n",
    "c2.run(\"condor_q\")"
   ]
  },
  {
   "cell_type": "markdown",
   "id": "623ff36e-996e-4b6a-9847-c6794af54219",
   "metadata": {},
   "source": [
    "## 2. Submit a simple job\n",
    "ospool_test/eht_submit.py  \n",
    "positional arguments:  \n",
    "* ehtdata     ehtdata input files  \n",
    "* rr          Rhigh-Ratio  \n",
    "* tva         Theta-Viewing-Angle  \n",
    "* rdm         rho0-density-normalization  "
   ]
  },
  {
   "cell_type": "code",
   "execution_count": 39,
   "id": "00268fca-e838-4d4c-89d2-e8ff4b078396",
   "metadata": {},
   "outputs": [
    {
     "name": "stdout",
     "output_type": "stream",
     "text": [
      "Split parameter file\n",
      "Submit jobs\n",
      "par/batch.p00 -> par/BATCH.D00\n",
      "Submitting job(s)....\n",
      "4 job(s) submitted to cluster 68.\n",
      "DONE\n",
      "[('torus.out0.05992.h5', '1', '30', '4.266338570441294e+17'), ('torus.out0.05992.h5', '1', '50', '4.266338570441294e+17'), ('torus.out0.05993.h5', '1', '30', '4.266338570441294e+17'), ('torus.out0.05993.h5', '1', '50', '4.266338570441294e+17')]\n",
      "total:  4\n"
     ]
    },
    {
     "data": {
      "text/plain": [
       "<Result cmd='ospool_test/eht_submit.py torus.out0.05992.h5,torus.out0.05993.h5 1 30,50 4.266338570441294e+17' exited=0>"
      ]
     },
     "execution_count": 39,
     "metadata": {},
     "output_type": "execute_result"
    }
   ],
   "source": [
    "script = \"ospool_test/eht_submit.py\"\n",
    "ehtdata = \"torus.out0.05992.h5,torus.out0.05993.h5\"\n",
    "rr = \"1\"\n",
    "tva = \"30,50\"\n",
    "rdm = \"4.266338570441294e+17\"\n",
    "submitcmd = f\"{script} {ehtdata} {rr} {tva} {rdm}\"\n",
    "c2.run(submitcmd)"
   ]
  },
  {
   "cell_type": "markdown",
   "id": "55c750ea-e314-43a1-8775-8c9bdda8a656",
   "metadata": {},
   "source": [
    "## 3. Monitor Job"
   ]
  },
  {
   "cell_type": "code",
   "execution_count": 52,
   "id": "515b292e-d7c2-417f-a21e-1afd40e2ebd3",
   "metadata": {},
   "outputs": [
    {
     "name": "stdout",
     "output_type": "stream",
     "text": [
      "\n",
      "\n",
      "-- Schedd: ospool-eht.chtc.wisc.edu : <128.105.68.10:9618?... @ 02/15/24 10:36:33\n",
      "OWNER  BATCH_NAME    SUBMITTED   DONE   RUN    IDLE  TOTAL JOB_IDS\n",
      "ehtbot ID: 68       2/15 10:34      _      4      _      4 68.0-3\n",
      "\n",
      "Total for query: 4 jobs; 0 completed, 0 removed, 0 idle, 4 running, 0 held, 0 suspended \n",
      "Total for ehtbot: 4 jobs; 0 completed, 0 removed, 0 idle, 4 running, 0 held, 0 suspended \n",
      "Total for all users: 4 jobs; 0 completed, 0 removed, 0 idle, 4 running, 0 held, 0 suspended\n",
      "\n"
     ]
    },
    {
     "data": {
      "text/plain": [
       "<Result cmd='condor_q' exited=0>"
      ]
     },
     "execution_count": 52,
     "metadata": {},
     "output_type": "execute_result"
    }
   ],
   "source": [
    "c2.run(\"condor_q\")"
   ]
  },
  {
   "cell_type": "code",
   "execution_count": 66,
   "id": "1961f2b9-b330-40d9-9cb5-df971e14a6b4",
   "metadata": {},
   "outputs": [
    {
     "name": "stdout",
     "output_type": "stream",
     "text": [
      "img_s05992_Rh1_i30.log\n",
      "img_s05992_Rh1_i50.log\n",
      "img_s05993_Rh1_i30.err\n",
      "img_s05993_Rh1_i30.log\n",
      "img_s05993_Rh1_i30.out\n",
      "img_s05993_Rh1_i50.log\n"
     ]
    },
    {
     "data": {
      "text/plain": [
       "<Result cmd='ls ospool_test/log' exited=0>"
      ]
     },
     "execution_count": 66,
     "metadata": {},
     "output_type": "execute_result"
    }
   ],
   "source": [
    "# check the errors .logs\n",
    "c2.run(\"ls ospool_test/log\")"
   ]
  },
  {
   "cell_type": "code",
   "execution_count": 67,
   "id": "a1359c9f-2d66-482c-9e6e-21466d2bd499",
   "metadata": {},
   "outputs": [
    {
     "name": "stdout",
     "output_type": "stream",
     "text": [
      "::::::::::::::\n",
      "ospool_test/log/img_s05992_Rh1_i30.log\n",
      "::::::::::::::\n",
      "000 (068.000.000) 2024-02-15 10:34:27 Job submitted from host: <128.105.68.10:9618?addrs=128.105.68.10-9618+[2607-f388-2200-100-216-3eff-fe11-1111]-9618&alias=ospool-eht.chtc.wisc.edu&noUDP&sock=schedd_2849159_ab6a>\n",
      "...\n",
      "040 (068.000.000) 2024-02-15 10:36:00 Started transferring input files\n",
      "\tTransferring to host: <131.225.208.52:44159?CCBID=128.104.103.162:9618%3faddrs%3d128.104.103.162-9618%26alias%3dospool-ccb.osg.chtc.io%26noUDP%26sock%3dcollector2#33971718%20192.170.231.9:9618%3faddrs%3d192.170.231.9-9618+[fd85-ee78-d8a6-8607--1-bcc0]-9618%26alias%3dospool-ccb.osgprod.tempest.chtc.io%26noUDP%26sock%3dcollector10#1898130&PrivNet=osg-1348949-0-fnpc22023.fnal.gov&addrs=131.225.208.52-44159+[2620-6a-0-8862-f0-0-208-52]-44159&alias=osg-1348949-0-fnpc22023.fnal.gov&noUDP>\n",
      "...\n",
      "040 (068.000.000) 2024-02-15 10:36:03 Finished transferring input files\n",
      "...\n",
      "021 (068.000.000) 2024-02-15 10:36:04 Message from starter on slot1_3@glidein_8_844514202@osg-1348949-0-fnpc22023.fnal.gov:\n",
      "\tPREPARE_JOB (prepare-hook) succeeded (reported status 000): Using Singularity image /cvmfs/singularity.opensciencegrid.org/opensciencegrid/osgvo-el7:latest\n",
      "...\n",
      "001 (068.000.000) 2024-02-15 10:36:04 Job executing on host: <131.225.208.52:45903?CCBID=128.104.103.162:9618%3faddrs%3d128.104.103.162-9618%26alias%3dospool-ccb.osg.chtc.io%26noUDP%26sock%3dcollector7#12412853%20192.170.231.9:9618%3faddrs%3d192.170.231.9-9618+[fd85-ee78-d8a6-8607--1-bcc0]-9618%26alias%3dospool-ccb.osgprod.tempest.chtc.io%26noUDP%26sock%3dcollector9#1884972&PrivNet=osg-1348949-0-fnpc22023.fnal.gov&addrs=131.225.208.52-45903+[2620-6a-0-8862-f0-0-208-52]-45903&alias=osg-1348949-0-fnpc22023.fnal.gov&noUDP>\n",
      "\tSlotName: slot1_3@osg-1348949-0-fnpc22023.fnal.gov\n",
      "\tCondorScratchDir = \"/storage/local/data1/condor/execute/dir_20065/glide_fwxcJN/execute/dir_570\"\n",
      "\tCpus = 4\n",
      "\tDisk = 6963898\n",
      "\tGLIDEIN_ResourceName = \"GPGrid\"\n",
      "\tMemory = 4096\n",
      "...\n",
      "006 (068.000.000) 2024-02-15 10:36:14 Image size of job updated: 3778956\n",
      "\t629  -  MemoryUsage of job (MB)\n",
      "\t643176  -  ResidentSetSize of job (KB)\n",
      "...\n",
      "006 (068.000.000) 2024-02-15 10:41:15 Image size of job updated: 3778956\n",
      "\t631  -  MemoryUsage of job (MB)\n",
      "\t645352  -  ResidentSetSize of job (KB)\n",
      "...\n",
      "006 (068.000.000) 2024-02-15 10:46:15 Image size of job updated: 3778956\n",
      "\t633  -  MemoryUsage of job (MB)\n",
      "\t647452  -  ResidentSetSize of job (KB)\n",
      "...\n",
      "006 (068.000.000) 2024-02-15 10:51:16 Image size of job updated: 3778956\n",
      "\t634  -  MemoryUsage of job (MB)\n",
      "\t648544  -  ResidentSetSize of job (KB)\n",
      "...\n"
     ]
    },
    {
     "data": {
      "text/plain": [
       "<Result cmd='more ospool_test/log/img_s05992_Rh1_i30.log' exited=0>"
      ]
     },
     "execution_count": 67,
     "metadata": {},
     "output_type": "execute_result"
    }
   ],
   "source": [
    "c2.run(\"more ospool_test/log/img_s05992_Rh1_i30.log\")"
   ]
  },
  {
   "cell_type": "code",
   "execution_count": 79,
   "id": "36f889d7-a363-4090-bec6-5a3f2193481a",
   "metadata": {},
   "outputs": [
    {
     "name": "stdout",
     "output_type": "stream",
     "text": [
      "\n",
      "\n",
      "-- Schedd: ospool-eht.chtc.wisc.edu : <128.105.68.10:9618?... @ 02/15/24 11:06:34\n",
      "OWNER  BATCH_NAME    SUBMITTED   DONE   RUN    IDLE  TOTAL JOB_IDS\n",
      "ehtbot ID: 68       2/15 10:34      3      1      _      4 68.1\n",
      "\n",
      "Total for query: 1 jobs; 0 completed, 0 removed, 0 idle, 1 running, 0 held, 0 suspended \n",
      "Total for ehtbot: 1 jobs; 0 completed, 0 removed, 0 idle, 1 running, 0 held, 0 suspended \n",
      "Total for all users: 1 jobs; 0 completed, 0 removed, 0 idle, 1 running, 0 held, 0 suspended\n",
      "\n"
     ]
    },
    {
     "data": {
      "text/plain": [
       "<Result cmd='condor_q' exited=0>"
      ]
     },
     "execution_count": 79,
     "metadata": {},
     "output_type": "execute_result"
    }
   ],
   "source": [
    "c2.run(\"condor_q\")"
   ]
  },
  {
   "cell_type": "code",
   "execution_count": 80,
   "id": "86369b2c-646c-46e6-8da3-810bceafa2eb",
   "metadata": {},
   "outputs": [
    {
     "name": "stdout",
     "output_type": "stream",
     "text": [
      "img_s05992_Rh1_i30.h5\n",
      "img_s05993_Rh1_i30.h5\n",
      "img_s05993_Rh1_i50.h5\n"
     ]
    },
    {
     "data": {
      "text/plain": [
       "<Result cmd='ls ospool_test/out' exited=0>"
      ]
     },
     "execution_count": 80,
     "metadata": {},
     "output_type": "execute_result"
    }
   ],
   "source": [
    "# check the output\n",
    "c2.run(\"ls ospool_test/out\")"
   ]
  },
  {
   "cell_type": "code",
   "execution_count": 85,
   "id": "25c9674a-c27c-4857-ae45-bdd3e7b0421e",
   "metadata": {},
   "outputs": [],
   "source": [
    "# close the connection\n",
    "c2.close()\n",
    "c1.close()"
   ]
  },
  {
   "cell_type": "code",
   "execution_count": null,
   "id": "dcf86d30-7127-4cd9-b1df-b01067b99846",
   "metadata": {},
   "outputs": [],
   "source": []
  }
 ],
 "metadata": {
  "kernelspec": {
   "display_name": "Python 3 (ipykernel)",
   "language": "python",
   "name": "python3"
  },
  "language_info": {
   "codemirror_mode": {
    "name": "ipython",
    "version": 3
   },
   "file_extension": ".py",
   "mimetype": "text/x-python",
   "name": "python",
   "nbconvert_exporter": "python",
   "pygments_lexer": "ipython3",
   "version": "3.11.6"
  }
 },
 "nbformat": 4,
 "nbformat_minor": 5
}
