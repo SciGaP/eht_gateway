{
 "cells": [
  {
   "cell_type": "markdown",
   "id": "d3b56d66-24c8-4720-b6c6-b981ce605606",
   "metadata": {},
   "source": [
    "## Debug htcondor_utilities"
   ]
  },
  {
   "cell_type": "code",
   "execution_count": 1,
   "id": "0c255a08-7322-4a4a-b794-7092bab3c382",
   "metadata": {},
   "outputs": [],
   "source": [
    "from htcondor_utilities import htcondor_status"
   ]
  },
  {
   "cell_type": "code",
   "execution_count": 2,
   "id": "b0467c5b-b094-4a15-8873-c9c0f0f8ea3c",
   "metadata": {},
   "outputs": [
    {
     "name": "stdout",
     "output_type": "stream",
     "text": [
      "-- Schedd: ospool-eht.chtc.wisc.edu : <128.105.68.10:9618?... @ 02/27/24 10:03:25\n",
      "OWNER  BATCH_NAME    SUBMITTED   DONE   RUN    IDLE   HOLD  TOTAL JOB_IDS\n",
      "ehtbot ID: 70       2/27 09:31    184    112      _      4    300 70.0-272\n",
      "\n",
      "Total for query: 116 jobs; 0 completed, 0 removed, 0 idle, 112 running, 4 held, 0 suspended \n",
      "Total for ehtbot: 116 jobs; 0 completed, 0 removed, 0 idle, 112 running, 4 held, 0 suspended \n",
      "Total for all users: 116 jobs; 0 completed, 0 removed, 0 idle, 112 running, 4 held, 0 suspended\n",
      "\n",
      "{'ID': '70', 'SUBMITTED': '2/27 09:31', 'DONE': 184, 'RUN': 112, 'IDLE': 0, 'HOLD': 4, 'TOTAL': 300}\n"
     ]
    }
   ],
   "source": [
    "# when not job is running\n",
    "status = htcondor_status()\n",
    "print(status)"
   ]
  },
  {
   "cell_type": "code",
   "execution_count": null,
   "id": "f148fece-cac3-42bc-bbcc-ce22e8a601ee",
   "metadata": {},
   "outputs": [],
   "source": []
  }
 ],
 "metadata": {
  "kernelspec": {
   "display_name": "Python 3 (ipykernel)",
   "language": "python",
   "name": "python3"
  },
  "language_info": {
   "codemirror_mode": {
    "name": "ipython",
    "version": 3
   },
   "file_extension": ".py",
   "mimetype": "text/x-python",
   "name": "python",
   "nbconvert_exporter": "python",
   "pygments_lexer": "ipython3",
   "version": "3.12.1"
  }
 },
 "nbformat": 4,
 "nbformat_minor": 5
}
