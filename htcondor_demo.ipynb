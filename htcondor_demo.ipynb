{
 "cells": [
  {
   "cell_type": "markdown",
   "metadata": {},
   "source": [
    "# HTCondor JobSubmission Demo"
   ]
  },
  {
   "cell_type": "markdown",
   "metadata": {},
   "source": [
    "## Submiting a test job"
   ]
  },
  {
   "cell_type": "code",
   "execution_count": 1,
   "metadata": {},
   "outputs": [],
   "source": [
    "from htcondor_utilities import run_testjob, htcondor_status"
   ]
  },
  {
   "cell_type": "code",
   "execution_count": 2,
   "metadata": {},
   "outputs": [
    {
     "name": "stdout",
     "output_type": "stream",
     "text": [
      "A test case with the following parameters:\n",
      "Ehtdata:  torus.out0.05992.h5,torus.out0.05993.h5,torus.out0.05994.h5,torus.out0.05995.h5,torus.out0.05996.h5\n",
      "Rhigh-Ratio:  10:100:10\n",
      "Theta-Viewing-Angle:  30,50,60,70,80,90\n",
      "Rho0-Density-Normalization:  4.266338570441294e+17\n",
      "\n",
      "\n",
      "\n",
      "\n",
      "total jobs:  300\n",
      "ready to submit\n"
     ]
    }
   ],
   "source": [
    "run_testjob(submit=False)"
   ]
  },
  {
   "cell_type": "code",
   "execution_count": 3,
   "metadata": {},
   "outputs": [],
   "source": [
    "import matplotlib.pyplot as plt\n",
    "import time\n",
    "from datetime import datetime"
   ]
  },
  {
   "cell_type": "code",
   "execution_count": 7,
   "metadata": {},
   "outputs": [],
   "source": [
    "status = htcondor_status()"
   ]
  },
  {
   "cell_type": "code",
   "execution_count": null,
   "metadata": {},
   "outputs": [
    {
     "data": {
      "image/png": "[encoded data removed]",
      "text/plain": [
       "<Figure size 640x480 with 1 Axes>"
      ]
     },
     "metadata": {},
     "output_type": "display_data"
    }
   ],
   "source": [
    "# plot\n",
    "now = datetime.now()\n",
    "current_time = now.strftime(\"%H:%M:%S\")\n",
    "\n",
    "fig, ax = plt.subplots()\n",
    "\n",
    "x = list(status.keys())[1:]\n",
    "y = list(status.values())[1:]\n",
    "barplot = ax.barh(x, y, edgecolor=\"white\")\n",
    "ax.set_title(f\"Total Jobs: {status['jobs']} @{current_time}\")\n",
    "plt.show()\n",
    "\n",
    "# looping\n",
    "for _ in range(50):\n",
    "   \n",
    "    # updating the value of x and y\n",
    "    status = htcondor_status()\n",
    "    y = list(status.values())[1:]\n",
    "    for rect, h in zip(barplot, y):\n",
    "        rect.set_height(h)\n",
    "    now = datetime.now()\n",
    "    current_time = now.strftime(\"%H:%M:%S\")\n",
    "    ax.set_title(f\"Total Jobs: {status['jobs']} @{current_time}\")\n",
    "    # re-drawing the figure\n",
    "    fig.canvas.draw()\n",
    "     \n",
    "    # to flush the GUI events\n",
    "    fig.canvas.flush_events()\n",
    "    time.sleep(5)"
   ]
  },
  {
   "cell_type": "code",
   "execution_count": 6,
   "metadata": {},
   "outputs": [
    {
     "data": {
      "text/plain": [
       "{'jobs': 124,\n",
       " 'completed': 0,\n",
       " 'removed': 0,\n",
       " 'idle': 0,\n",
       " 'running': 120,\n",
       " 'held': 4,\n",
       " 'suspended': 0}"
      ]
     },
     "execution_count": 6,
     "metadata": {},
     "output_type": "execute_result"
    }
   ],
   "source": [
    "status"
   ]
  },
  {
   "cell_type": "code",
   "execution_count": null,
   "metadata": {},
   "outputs": [],
   "source": []
  }
 ],
 "metadata": {
  "kernelspec": {
   "display_name": "Python 3 (ipykernel)",
   "language": "python",
   "name": "python3"
  },
  "language_info": {
   "codemirror_mode": {
    "name": "ipython",
    "version": 3
   },
   "file_extension": ".py",
   "mimetype": "text/x-python",
   "name": "python",
   "nbconvert_exporter": "python",
   "pygments_lexer": "ipython3",
   "version": "3.12.1"
  }
 },
 "nbformat": 4,
 "nbformat_minor": 4
}
