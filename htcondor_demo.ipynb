{
 "cells": [
  {
   "cell_type": "markdown",
   "metadata": {},
   "source": [
    "# HTCondor JobSubmission Demo"
   ]
  },
  {
   "cell_type": "markdown",
   "metadata": {},
   "source": [
    "## Submiting a test job"
   ]
  },
  {
   "cell_type": "code",
   "execution_count": 1,
   "metadata": {},
   "outputs": [],
   "source": [
    "from htcondor_utilities import run_testjob, check_htcondor_status, check_output, get_output"
   ]
  },
  {
   "cell_type": "code",
   "execution_count": 2,
   "metadata": {},
   "outputs": [
    {
     "name": "stdout",
     "output_type": "stream",
     "text": [
      "A test case with the following parameters:\n",
      "Ehtdata:  torus.out0.05992.h5,torus.out0.05993.h5,torus.out0.05994.h5,torus.out0.05995.h5,torus.out0.05996.h5\n",
      "Rhigh-Ratio:  10:100:10\n",
      "Theta-Viewing-Angle:  30,50,60,70,80,90\n",
      "Rho0-Density-Normalization:  4.266338570441294e+17\n",
      "\n",
      "\n",
      "\n",
      "\n",
      "total jobs:  300\n",
      "ready to submit\n"
     ]
    }
   ],
   "source": [
    "run_testjob(submit=False)"
   ]
  },
  {
   "cell_type": "markdown",
   "metadata": {},
   "source": [
    "## Check the job status"
   ]
  },
  {
   "cell_type": "code",
   "execution_count": 3,
   "metadata": {},
   "outputs": [
    {
     "name": "stdout",
     "output_type": "stream",
     "text": [
      "JobID: 70, Total: 300, Submit Time: 2/27 09:31\n",
      "status report 61.33% done @ 02/29 10:21\n",
      "Done - 184:  ****************************************************************************************************************************************************************************************\n",
      "Run - 112:  ****************************************************************************************************************\n",
      "Idle - 0:  \n",
      "Hold - 4:  ****\n"
     ]
    }
   ],
   "source": [
    "status = check_htcondor_status()"
   ]
  },
  {
   "cell_type": "markdown",
   "metadata": {},
   "source": [
    "## Check the output"
   ]
  },
  {
   "cell_type": "code",
   "execution_count": 3,
   "metadata": {},
   "outputs": [
    {
     "name": "stdout",
     "output_type": "stream",
     "text": [
      "Total output: 202\n",
      "['img_s05992_Rh100_i60.h5', 'img_s05992_Rh100_i70.h5', 'img_s05992_Rh100_i90.h5', 'img_s05992_Rh10_i60.h5', 'img_s05992_Rh30_i60.h5', 'img_s05992_Rh30_i70.h5', 'img_s05992_Rh30_i90.h5', 'img_s05992_Rh40_i30.h5', 'img_s05992_Rh40_i50.h5', 'img_s05992_Rh40_i60.h5', 'img_s05992_Rh40_i70.h5', 'img_s05992_Rh40_i80.h5', 'img_s05992_Rh40_i90.h5', 'img_s05992_Rh50_i50.h5', 'img_s05992_Rh50_i60.h5', 'img_s05992_Rh50_i70.h5', 'img_s05992_Rh50_i80.h5', 'img_s05992_Rh60_i60.h5', 'img_s05992_Rh60_i70.h5', 'img_s05992_Rh60_i90.h5', 'img_s05992_Rh70_i30.h5', 'img_s05992_Rh70_i50.h5', 'img_s05992_Rh70_i60.h5', 'img_s05992_Rh80_i50.h5', 'img_s05992_Rh80_i60.h5', 'img_s05992_Rh80_i70.h5', 'img_s05992_Rh80_i80.h5', 'img_s05992_Rh80_i90.h5', 'img_s05992_Rh90_i30.h5', 'img_s05992_Rh90_i50.h5', 'img_s05992_Rh90_i70.h5', 'img_s05992_Rh90_i90.h5', 'img_s05993_Rh100_i50.h5', 'img_s05993_Rh100_i60.h5', 'img_s05993_Rh100_i70.h5', 'img_s05993_Rh100_i80.h5', 'img_s05993_Rh10_i30.h5', 'img_s05993_Rh20_i60.h5', 'img_s05993_Rh20_i70.h5', 'img_s05993_Rh20_i80.h5', 'img_s05993_Rh30_i60.h5', 'img_s05993_Rh40_i80.h5', 'img_s05993_Rh50_i60.h5', 'img_s05993_Rh50_i70.h5', 'img_s05993_Rh50_i90.h5', 'img_s05993_Rh70_i70.h5', 'img_s05993_Rh70_i80.h5', 'img_s05993_Rh80_i90.h5', 'img_s05993_Rh90_i50.h5', 'img_s05993_Rh90_i90.h5', 'img_s05994_Rh100_i30.h5', 'img_s05994_Rh100_i50.h5', 'img_s05994_Rh100_i60.h5', 'img_s05994_Rh100_i80.h5', 'img_s05994_Rh100_i90.h5', 'img_s05994_Rh10_i30.h5', 'img_s05994_Rh10_i50.h5', 'img_s05994_Rh10_i60.h5', 'img_s05994_Rh10_i70.h5', 'img_s05994_Rh10_i80.h5', 'img_s05994_Rh10_i90.h5', 'img_s05994_Rh20_i30.h5', 'img_s05994_Rh20_i50.h5', 'img_s05994_Rh20_i60.h5', 'img_s05994_Rh20_i70.h5', 'img_s05994_Rh20_i80.h5', 'img_s05994_Rh20_i90.h5', 'img_s05994_Rh30_i30.h5', 'img_s05994_Rh30_i50.h5', 'img_s05994_Rh30_i60.h5', 'img_s05994_Rh30_i70.h5', 'img_s05994_Rh30_i80.h5', 'img_s05994_Rh30_i90.h5', 'img_s05994_Rh40_i30.h5', 'img_s05994_Rh40_i50.h5', 'img_s05994_Rh40_i60.h5', 'img_s05994_Rh40_i70.h5', 'img_s05994_Rh40_i90.h5', 'img_s05994_Rh50_i50.h5', 'img_s05994_Rh50_i60.h5', 'img_s05994_Rh50_i70.h5', 'img_s05994_Rh50_i80.h5', 'img_s05994_Rh50_i90.h5', 'img_s05994_Rh60_i30.h5', 'img_s05994_Rh60_i50.h5', 'img_s05994_Rh60_i60.h5', 'img_s05994_Rh60_i70.h5', 'img_s05994_Rh60_i80.h5', 'img_s05994_Rh60_i90.h5', 'img_s05994_Rh70_i30.h5', 'img_s05994_Rh70_i60.h5', 'img_s05994_Rh70_i70.h5', 'img_s05994_Rh70_i80.h5', 'img_s05994_Rh70_i90.h5', 'img_s05994_Rh80_i30.h5', 'img_s05994_Rh80_i60.h5', 'img_s05994_Rh80_i70.h5', 'img_s05994_Rh80_i80.h5', 'img_s05994_Rh80_i90.h5', 'img_s05994_Rh90_i30.h5', 'img_s05994_Rh90_i50.h5', 'img_s05994_Rh90_i70.h5', 'img_s05994_Rh90_i80.h5', 'img_s05994_Rh90_i90.h5', 'img_s05995_Rh100_i30.h5', 'img_s05995_Rh100_i50.h5', 'img_s05995_Rh100_i70.h5', 'img_s05995_Rh100_i80.h5', 'img_s05995_Rh100_i90.h5', 'img_s05995_Rh10_i30.h5', 'img_s05995_Rh10_i50.h5', 'img_s05995_Rh10_i60.h5', 'img_s05995_Rh10_i70.h5', 'img_s05995_Rh10_i80.h5', 'img_s05995_Rh10_i90.h5', 'img_s05995_Rh20_i30.h5', 'img_s05995_Rh20_i50.h5', 'img_s05995_Rh20_i60.h5', 'img_s05995_Rh20_i70.h5', 'img_s05995_Rh20_i80.h5', 'img_s05995_Rh30_i70.h5', 'img_s05995_Rh30_i80.h5', 'img_s05995_Rh30_i90.h5', 'img_s05995_Rh40_i30.h5', 'img_s05995_Rh40_i50.h5', 'img_s05995_Rh40_i70.h5', 'img_s05995_Rh40_i80.h5', 'img_s05995_Rh50_i50.h5', 'img_s05995_Rh50_i60.h5', 'img_s05995_Rh50_i80.h5', 'img_s05995_Rh60_i30.h5', 'img_s05995_Rh60_i60.h5', 'img_s05995_Rh60_i70.h5', 'img_s05995_Rh60_i80.h5', 'img_s05995_Rh60_i90.h5', 'img_s05995_Rh70_i30.h5', 'img_s05995_Rh70_i50.h5', 'img_s05995_Rh70_i70.h5', 'img_s05995_Rh70_i80.h5', 'img_s05995_Rh70_i90.h5', 'img_s05995_Rh80_i60.h5', 'img_s05995_Rh80_i90.h5', 'img_s05995_Rh90_i30.h5', 'img_s05995_Rh90_i50.h5', 'img_s05995_Rh90_i60.h5', 'img_s05995_Rh90_i70.h5', 'img_s05995_Rh90_i80.h5', 'img_s05996_Rh100_i30.h5', 'img_s05996_Rh100_i50.h5', 'img_s05996_Rh100_i60.h5', 'img_s05996_Rh100_i70.h5', 'img_s05996_Rh100_i80.h5', 'img_s05996_Rh100_i90.h5', 'img_s05996_Rh10_i30.h5', 'img_s05996_Rh10_i50.h5', 'img_s05996_Rh10_i60.h5', 'img_s05996_Rh10_i70.h5', 'img_s05996_Rh10_i80.h5', 'img_s05996_Rh10_i90.h5', 'img_s05996_Rh20_i30.h5', 'img_s05996_Rh20_i50.h5', 'img_s05996_Rh20_i70.h5', 'img_s05996_Rh20_i80.h5', 'img_s05996_Rh30_i30.h5', 'img_s05996_Rh30_i50.h5', 'img_s05996_Rh30_i60.h5', 'img_s05996_Rh30_i70.h5', 'img_s05996_Rh30_i80.h5', 'img_s05996_Rh30_i90.h5', 'img_s05996_Rh40_i30.h5', 'img_s05996_Rh40_i50.h5', 'img_s05996_Rh40_i60.h5', 'img_s05996_Rh40_i70.h5', 'img_s05996_Rh40_i80.h5', 'img_s05996_Rh40_i90.h5', 'img_s05996_Rh50_i30.h5', 'img_s05996_Rh50_i50.h5', 'img_s05996_Rh50_i60.h5', 'img_s05996_Rh50_i70.h5', 'img_s05996_Rh60_i30.h5', 'img_s05996_Rh60_i50.h5', 'img_s05996_Rh60_i70.h5', 'img_s05996_Rh60_i80.h5', 'img_s05996_Rh60_i90.h5', 'img_s05996_Rh70_i30.h5', 'img_s05996_Rh70_i50.h5', 'img_s05996_Rh70_i60.h5', 'img_s05996_Rh70_i70.h5', 'img_s05996_Rh70_i80.h5', 'img_s05996_Rh70_i90.h5', 'img_s05996_Rh80_i30.h5', 'img_s05996_Rh80_i50.h5', 'img_s05996_Rh80_i60.h5', 'img_s05996_Rh80_i70.h5', 'img_s05996_Rh80_i80.h5', 'img_s05996_Rh80_i90.h5', 'img_s05996_Rh90_i30.h5', 'img_s05996_Rh90_i50.h5', 'img_s05996_Rh90_i60.h5', 'img_s05996_Rh90_i70.h5', 'img_s05996_Rh90_i80.h5', 'img_s05996_Rh90_i90.h5']\n"
     ]
    }
   ],
   "source": [
    "h5list = check_output()\n",
    "print(f\"Total output: {len(h5list)}\")\n",
    "print(h5list)"
   ]
  },
  {
   "cell_type": "markdown",
   "metadata": {},
   "source": [
    "## Get the output"
   ]
  },
  {
   "cell_type": "code",
   "execution_count": 4,
   "metadata": {},
   "outputs": [
    {
     "name": "stdout",
     "output_type": "stream",
     "text": [
      "/home/cicuser/Projects/eht_gateway/img_s05992_Rh100_i60.h5\n",
      "File transfer successful!\n"
     ]
    }
   ],
   "source": [
    "# download the first output as an example\n",
    "# the file is downloaded to the current local dir\n",
    "get_output(h5list[0])"
   ]
  },
  {
   "cell_type": "code",
   "execution_count": 5,
   "metadata": {},
   "outputs": [],
   "source": [
    "# plot the file\n",
    "import h5py\n",
    "import matplotlib.pyplot as plt\n",
    "import numpy as np"
   ]
  },
  {
   "cell_type": "code",
   "execution_count": 6,
   "metadata": {},
   "outputs": [
    {
     "data": {
      "image/png": "[encoded data removed]",
      "text/plain": [
       "<Figure size 640x480 with 1 Axes>"
      ]
     },
     "metadata": {},
     "output_type": "display_data"
    }
   ],
   "source": [
    "h5file = h5list[0]\n",
    "hfp = h5py.File(h5file,'r')\n",
    "dx_cgs = hfp['header']['camera']['dx'][()] * hfp['header']['units']['L_unit'][()]\n",
    "fovMuas = dx_cgs / hfp['header']['dsource'][()] * 2.06265e11\n",
    "cgsToJy = hfp['header']['scale'][()]\n",
    "unpol = np.copy(hfp['unpol']).transpose((1,0)) * cgsToJy\n",
    "hfp.close()\n",
    "\n",
    "# make plot and show\n",
    "ext = [ -fovMuas/2, fovMuas/2, -fovMuas/2, fovMuas/2 ]\n",
    "plt.imshow(unpol, origin='lower', extent=ext)\n",
    "plt.show()"
   ]
  },
  {
   "cell_type": "code",
   "execution_count": null,
   "metadata": {},
   "outputs": [],
   "source": []
  }
 ],
 "metadata": {
  "kernelspec": {
   "display_name": "Python 3 (ipykernel)",
   "language": "python",
   "name": "python3"
  },
  "language_info": {
   "codemirror_mode": {
    "name": "ipython",
    "version": 3
   },
   "file_extension": ".py",
   "mimetype": "text/x-python",
   "name": "python",
   "nbconvert_exporter": "python",
   "pygments_lexer": "ipython3",
   "version": "3.12.2"
  }
 },
 "nbformat": 4,
 "nbformat_minor": 4
}
